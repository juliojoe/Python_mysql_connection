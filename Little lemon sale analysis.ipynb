{
 "cells": [
  {
   "cell_type": "code",
   "execution_count": 1,
   "metadata": {},
   "outputs": [
    {
     "name": "stdout",
     "output_type": "stream",
     "text": [
      "Requirement already satisfied: mysql-connector-python in /home/coder/.local/lib/python3.8/site-packages (8.0.33)\n",
      "Requirement already satisfied: protobuf<=3.20.3,>=3.11.0 in /home/coder/.local/lib/python3.8/site-packages (from mysql-connector-python) (3.20.3)\n"
     ]
    }
   ],
   "source": [
    "#install connector api using the command below.\n",
    "!pip install mysql-connector-python"
   ]
  },
  {
   "cell_type": "code",
   "execution_count": 2,
   "metadata": {},
   "outputs": [
    {
     "name": "stdout",
     "output_type": "stream",
     "text": [
      "Using little_lemon_db database\n"
     ]
    }
   ],
   "source": [
    "# Import MySQL Connector/Python \n",
    "import mysql.connector as connector\n",
    "connection = connector.connect(user=\"root\",password=\"\")\n",
    "cursor = connection.cursor()\n",
    "cursor.execute(\"DROP DATABASE IF EXISTS little_lemon_db;\") \n",
    "cursor.execute(\"CREATE DATABASE IF NOT EXISTS little_lemon_db;\") \n",
    "cursor.execute(\"USE little_lemon_db;\")\n",
    "print(\"Using\", connection.database, \"database\")"
   ]
  },
  {
   "cell_type": "code",
   "execution_count": 3,
   "metadata": {},
   "outputs": [],
   "source": [
    "#MenuItems table\n",
    "create_menuitem_table = \"\"\"CREATE TABLE IF NOT EXISTS MenuItems (\n",
    "ItemID INT AUTO_INCREMENT,\n",
    "Name VARCHAR(200),\n",
    "Type VARCHAR(100),\n",
    "Price INT,\n",
    "PRIMARY KEY (ItemID)\n",
    ");\"\"\"\n",
    "\n",
    "create_menu_table = \"\"\"CREATE TABLE IF NOT EXISTS Menus (\n",
    "MenuID INT,\n",
    "ItemID INT,\n",
    "Cuisine VARCHAR(100),\n",
    "PRIMARY KEY (MenuID,ItemID)\n",
    ");\"\"\"\n",
    "\n",
    "create_booking_table = \"\"\"CREATE TABLE IF NOT EXISTS Bookings (\n",
    "BookingID INT AUTO_INCREMENT,\n",
    "TableNo INT,\n",
    "GuestFirstName VARCHAR(100) NOT NULL,\n",
    "GuestLastName VARCHAR(100) NOT NULL,\n",
    "BookingSlot TIME NOT NULL,\n",
    "EmployeeID INT,\n",
    "PRIMARY KEY (BookingID)\n",
    ");\"\"\"\n",
    "\n",
    "create_orders_table = \"\"\"CREATE TABLE IF NOT EXISTS Orders (\n",
    "OrderID INT,\n",
    "TableNo INT,\n",
    "MenuID INT,\n",
    "BookingID INT,\n",
    "BillAmount INT,\n",
    "Quantity INT,\n",
    "PRIMARY KEY (OrderID,TableNo)\n",
    ");\"\"\"\n",
    "\n",
    "create_employees_table = \"\"\"CREATE TABLE IF NOT EXISTS Employees (\n",
    "EmployeeID INT AUTO_INCREMENT PRIMARY KEY,\n",
    "Name VARCHAR(200),\n",
    "Role VARCHAR(200),\n",
    "Address VARCHAR(200),\n",
    "Contact_Number INT,\n",
    "Email VARCHAR(200),\n",
    "Annual_Salary VARCHAR(100)\n",
    ");\"\"\""
   ]
  },
  {
   "cell_type": "code",
   "execution_count": 4,
   "metadata": {},
   "outputs": [
    {
     "name": "stdout",
     "output_type": "stream",
     "text": [
      "Created MenuItems table\n",
      "Created Menus table\n",
      "Created Bookings table\n",
      "Created Orders table\n",
      "Created Employees table\n"
     ]
    }
   ],
   "source": [
    "# Create MenuItems table\n",
    "cursor.execute(create_menuitem_table)\n",
    "print(\"Created MenuItems table\")\n",
    "# Create Menu table\n",
    "cursor.execute(create_menu_table)\n",
    "print(\"Created Menus table\")\n",
    "# Create Bookings table\n",
    "cursor.execute(create_booking_table)\n",
    "print(\"Created Bookings table\")\n",
    "# Create Orders table\n",
    "cursor.execute(create_orders_table)\n",
    "print(\"Created Orders table\")\n",
    "# Create Employees table\n",
    "cursor.execute(create_employees_table)\n",
    "print(\"Created Employees table\")"
   ]
  },
  {
   "cell_type": "code",
   "execution_count": 5,
   "metadata": {},
   "outputs": [],
   "source": [
    "#*******************************************************#\n",
    "# Insert query to populate \"MenuItems\" table:\n",
    "#*******************************************************#\n",
    "insert_menuitems=\"\"\"\n",
    "INSERT INTO MenuItems (ItemID, Name, Type, Price)\n",
    "VALUES\n",
    "(1, 'Olives','Starters',5),\n",
    "(2, 'Flatbread','Starters', 5),\n",
    "(3, 'Minestrone', 'Starters', 8),\n",
    "(4, 'Tomato bread','Starters', 8),\n",
    "(5, 'Falafel', 'Starters', 7),\n",
    "(6, 'Hummus', 'Starters', 5),\n",
    "(7, 'Greek salad', 'Main Courses', 15),\n",
    "(8, 'Bean soup', 'Main Courses', 12),\n",
    "(9, 'Pizza', 'Main Courses', 15),\n",
    "(10, 'Greek yoghurt','Desserts', 7),\n",
    "(11, 'Ice cream', 'Desserts', 6),\n",
    "(12, 'Cheesecake', 'Desserts', 4),\n",
    "(13, 'Athens White wine', 'Drinks', 25),\n",
    "(14, 'Corfu Red Wine', 'Drinks', 30),\n",
    "(15, 'Turkish Coffee', 'Drinks', 10),\n",
    "(16, 'Turkish Coffee', 'Drinks', 10),\n",
    "(17, 'Kabasa', 'Main Courses', 17);\"\"\"\n",
    "\n",
    "#*******************************************************#\n",
    "# Insert query to populate \"Menu\" table:\n",
    "#*******************************************************#\n",
    "insert_menu=\"\"\"\n",
    "INSERT INTO Menus (MenuID,ItemID,Cuisine)\n",
    "VALUES\n",
    "(1, 1, 'Greek'),\n",
    "(1, 7, 'Greek'),\n",
    "(1, 10, 'Greek'),\n",
    "(1, 13, 'Greek'),\n",
    "(2, 3, 'Italian'),\n",
    "(2, 9, 'Italian'),\n",
    "(2, 12, 'Italian'),\n",
    "(2, 15, 'Italian'),\n",
    "(3, 5, 'Turkish'),\n",
    "(3, 17, 'Turkish'),\n",
    "(3, 11, 'Turkish'),\n",
    "(3, 16, 'Turkish');\"\"\"\n",
    "\n",
    "#*******************************************************#\n",
    "# Insert query to populate \"Bookings\" table:\n",
    "#*******************************************************#\n",
    "insert_bookings=\"\"\"\n",
    "INSERT INTO Bookings (BookingID, TableNo, GuestFirstName, \n",
    "GuestLastName, BookingSlot, EmployeeID)\n",
    "VALUES\n",
    "(1, 12, 'Anna','Iversen','19:00:00',1),\n",
    "(2, 12, 'Joakim', 'Iversen', '19:00:00', 1),\n",
    "(3, 19, 'Vanessa', 'McCarthy', '15:00:00', 3),\n",
    "(4, 15, 'Marcos', 'Romero', '17:30:00', 4),\n",
    "(5, 5, 'Hiroki', 'Yamane', '18:30:00', 2),\n",
    "(6, 8, 'Diana', 'Pinto', '20:00:00', 5);\"\"\"\n",
    "\n",
    "#*******************************************************#\n",
    "# Insert query to populate \"Orders\" table:\n",
    "#*******************************************************#\n",
    "insert_orders=\"\"\"\n",
    "INSERT INTO Orders (OrderID, TableNo, MenuID, BookingID, Quantity, BillAmount)\n",
    "VALUES\n",
    "(1, 12, 1, 1, 2, 86),\n",
    "(2, 19, 2, 2, 1, 37),\n",
    "(3, 15, 2, 3, 1, 37),\n",
    "(4, 5, 3, 4, 1, 40),\n",
    "(5, 8, 1, 5, 1, 43);\"\"\"\n",
    "\n",
    "#*******************************************************#\n",
    "# Insert query to populate \"Employees\" table:\n",
    "#*******************************************************#\n",
    "insert_employees = \"\"\"\n",
    "INSERT INTO Employees (EmployeeID, Name, Role, Address, Contact_Number, Email, Annual_Salary)\n",
    "VALUES(01,'Mario Gollini','Manager','724, Parsley Lane, Old Town, Chicago, IL',351258074,'Mario.g@littlelemon.com','$70,000'),\n",
    "(02,'Adrian Gollini','Assistant Manager','334, Dill Square, Lincoln Park, Chicago, IL',351474048,'Adrian.g@littlelemon.com','$65,000'),\n",
    "(03,'Giorgos Dioudis','Head Chef','879 Sage Street, West Loop, Chicago, IL',351970582,'Giorgos.d@littlelemon.com','$50,000'),\n",
    "(04,'Fatma Kaya','Assistant Chef','132  Bay Lane, Chicago, IL',351963569,'Fatma.k@littlelemon.com','$45,000'),\n",
    "(05,'Elena Salvai','Head Waiter','989 Thyme Square, EdgeWater, Chicago, IL',351074198,'Elena.s@littlelemon.com','$40,000'),\n",
    "(06,'John Millar','Receptionist','245 Dill Square, Lincoln Park, Chicago, IL',351584508,'John.m@littlelemon.com','$35,000');\"\"\"\n"
   ]
  },
  {
   "cell_type": "code",
   "execution_count": 6,
   "metadata": {},
   "outputs": [
    {
     "name": "stdout",
     "output_type": "stream",
     "text": [
      "Records inserted into MenuItems table.\n",
      "Records inserted into Menus table.\n",
      "Records inserted into Bookings table.\n",
      "Records inserted into Orders table.\n",
      "Records inserted into Employees table.\n"
     ]
    }
   ],
   "source": [
    "# Clear the tables\n",
    "# cursor.execute(\"\"\"DELETE FROM Orders; \n",
    "# DELETE FROM Bookings; \n",
    "# DELETE FROM Menus;\n",
    "# DELETE FROM Employees; \n",
    "# DELETE FROM MenuItems;\n",
    "# \"\"\")\n",
    "# connection.commit()\n",
    "\n",
    "# Populate MenuItems table\n",
    "cursor.execute(insert_menuitems)\n",
    "connection.commit()\n",
    "print(\"Records inserted into MenuItems table.\")\n",
    "\n",
    "# Populate Menu table\n",
    "cursor.execute(insert_menu)\n",
    "connection.commit()\n",
    "print(\"Records inserted into Menus table.\")\n",
    "\n",
    "# Populate Bookings table\n",
    "cursor.execute(insert_bookings)\n",
    "connection.commit()\n",
    "print(\"Records inserted into Bookings table.\")\n",
    "\n",
    "# Populate Orders table\n",
    "cursor.execute(insert_orders)\n",
    "connection.commit()\n",
    "print(\"Records inserted into Orders table.\")\n",
    "\n",
    "# Populate Employees table\n",
    "cursor.execute(insert_employees)\n",
    "connection.commit()\n",
    "print(\"Records inserted into Employees table.\")"
   ]
  },
  {
   "cell_type": "code",
   "execution_count": 7,
   "metadata": {},
   "outputs": [],
   "source": [
    "# TASK 2\n",
    "from mysql.connector.pooling import MySQLConnectionPool\n",
    "from mysql.connector import Error"
   ]
  },
  {
   "cell_type": "code",
   "execution_count": 8,
   "metadata": {},
   "outputs": [
    {
     "name": "stdout",
     "output_type": "stream",
     "text": [
      "The connection pool is created with a name:  pool_a\n",
      "The pool size is: 2\n"
     ]
    }
   ],
   "source": [
    "try:\n",
    "    dbconfig={\"database\":\"little_lemon_db\", \"user\":\"root\", \"password\":\"\"}\n",
    "    pool = MySQLConnectionPool(pool_size=2, pool_name=\"pool_a\", **dbconfig)\n",
    "    print(\"The connection pool is created with a name: \", pool.pool_name)\n",
    "    print(\"The pool size is:\", pool.pool_size)\n",
    "except Error as er:\n",
    "    print(\"Error code:\", er.errno)\n",
    "    print(\"Error message:\", er.msg)"
   ]
  },
  {
   "cell_type": "code",
   "execution_count": 9,
   "metadata": {},
   "outputs": [
    {
     "name": "stdout",
     "output_type": "stream",
     "text": [
      "Getting a connection from the pool.\n"
     ]
    }
   ],
   "source": [
    "# Get the connection from the connection pool \"pool\"\n",
    "print(\"Getting a connection from the pool.\")\n",
    "connection1 = pool.get_connection()\n",
    "cursor = connection1.cursor()"
   ]
  },
  {
   "cell_type": "code",
   "execution_count": 10,
   "metadata": {},
   "outputs": [
    {
     "name": "stdout",
     "output_type": "stream",
     "text": [
      "Creating PeakHours stored procedure\n",
      "PeakHours stored procedure created\n",
      "Creating GuestStatus stored procedure\n",
      "GuestStatus stored procedure created\n"
     ]
    }
   ],
   "source": [
    "peak_hours_query = \"\"\"\n",
    "CREATE PROCEDURE PeakHours()\n",
    "BEGIN\n",
    "    SELECT HOUR(BookingSlot) AS BookingHours, \n",
    "        COUNT(*) AS NumberOfBookings \n",
    "    FROM Bookings \n",
    "    GROUP BY BookingHours\n",
    "    ORDER BY NumberOfBookings DESC;\n",
    "END\n",
    "\"\"\"\n",
    "\n",
    "guest_status_query = \"\"\"\n",
    "CREATE PROCEDURE GuestStatus()\n",
    "BEGIN\n",
    "    SELECT CONCAT(GuestFirstName, ' ', GuestLastName) AS GuestFullName,\n",
    "        Role AS Employee,\n",
    "        (CASE WHEN Employees.Role IN ('Manager', 'Assistant Manager') THEN 'Ready to pay'\n",
    "            WHEN Employees.Role = 'Head Chef' THEN 'Ready to serve'\n",
    "            WHEN Employees.Role = 'Assistant Chef' THEN 'Preparing Order'\n",
    "            WHEN Employees.Role = 'Head Waiter' THEN 'Order served'\n",
    "            ELSE 'Pending'\n",
    "        END) AS Status\n",
    "    FROM Bookings\n",
    "    LEFT JOIN Employees ON Employees.EmployeeID = Bookings.EmployeeID;\n",
    "END\n",
    "\"\"\"\n",
    "cursor.execute(\"DROP PROCEDURE IF EXISTS PeakHours;\")\n",
    "cursor.execute(\"DROP PROCEDURE IF EXISTS GuestStatus;\")\n",
    "print('Creating PeakHours stored procedure')\n",
    "cursor.execute(peak_hours_query)\n",
    "print('PeakHours stored procedure created')\n",
    "print('Creating GuestStatus stored procedure')\n",
    "cursor.execute(guest_status_query)\n",
    "print('GuestStatus stored procedure created')"
   ]
  },
  {
   "cell_type": "code",
   "execution_count": 11,
   "metadata": {},
   "outputs": [
    {
     "name": "stdout",
     "output_type": "stream",
     "text": [
      "\n",
      "Calling procedure PeakHours\n",
      "['BookingHours', 'NumberOfBookings']\n",
      "(19, 2)\n",
      "(15, 1)\n",
      "(17, 1)\n",
      "(18, 1)\n",
      "(20, 1)\n",
      "\n",
      "Calling procedure GuestStatus\n",
      "['GuestFullName', 'Employee', 'Status']\n",
      "('Anna Iversen', 'Manager', 'Ready to pay')\n",
      "('Joakim Iversen', 'Manager', 'Ready to pay')\n",
      "('Vanessa McCarthy', 'Head Chef', 'Ready to serve')\n",
      "('Marcos Romero', 'Assistant Chef', 'Preparing Order')\n",
      "('Hiroki Yamane', 'Assistant Manager', 'Ready to pay')\n",
      "('Diana Pinto', 'Head Waiter', 'Order served')\n"
     ]
    }
   ],
   "source": [
    "for proc in ['PeakHours', 'GuestStatus']:\n",
    "    print(\"\\nCalling procedure\", proc)\n",
    "    cursor.callproc(proc)\n",
    "    results = next(cursor.stored_results())\n",
    "    dataset = results.fetchall()\n",
    "    columns = list()\n",
    "    for column_id in cursor.stored_results():\n",
    "        columns = [c[0] for c in column_id.description]\n",
    "\n",
    "    print(columns)\n",
    "    for d in dataset:\n",
    "        print(d)\n",
    "        "
   ]
  },
  {
   "cell_type": "code",
   "execution_count": 12,
   "metadata": {},
   "outputs": [],
   "source": [
    "connection1.close()"
   ]
  },
  {
   "cell_type": "code",
   "execution_count": 13,
   "metadata": {},
   "outputs": [
    {
     "name": "stdout",
     "output_type": "stream",
     "text": [
      "The connection pool is created with a name:  pool_b\n",
      "The pool size is: 2\n"
     ]
    }
   ],
   "source": [
    "# from mysql.connector.pooling import MySQLConnectionPool\n",
    "# from mysql.connector import Error\n",
    "try:\n",
    "    dbconfig={\"database\":\"little_lemon_db\", \"user\":\"root\", \"password\":\"\"}\n",
    "    pool = MySQLConnectionPool(pool_size=2, pool_name=\"pool_b\", **dbconfig)\n",
    "    print(\"The connection pool is created with a name: \", pool.pool_name)\n",
    "    print(\"The pool size is:\", pool.pool_size)\n",
    "except Error as er:\n",
    "    print(\"Error code:\", er.errno)\n",
    "    print(\"Error message:\", er.msg)"
   ]
  },
  {
   "cell_type": "code",
   "execution_count": 14,
   "metadata": {},
   "outputs": [
    {
     "name": "stdout",
     "output_type": "stream",
     "text": [
      "Added Anees record to Bookings.\n"
     ]
    }
   ],
   "source": [
    "conn1 = pool.get_connection()\n",
    "cursor1 = conn1.cursor()\n",
    "insert_bookings_query = \"\"\"INSERT INTO Bookings (BookingID, TableNo, GuestFirstName, \n",
    "GuestLastName, BookingSlot, EmployeeID)\n",
    "VALUES(7, 8, 'Anees', 'Java', '18:00', 6);\"\"\"\n",
    "cursor1.execute(insert_bookings_query)\n",
    "conn1.commit()\n",
    "print(\"Added Anees record to Bookings.\")"
   ]
  },
  {
   "cell_type": "code",
   "execution_count": 15,
   "metadata": {},
   "outputs": [
    {
     "name": "stdout",
     "output_type": "stream",
     "text": [
      "Added Bald record to Bookings.\n"
     ]
    }
   ],
   "source": [
    "conn2 = pool.get_connection()\n",
    "cursor2 = conn2.cursor()\n",
    "insert_bookings_query2 = \"\"\"INSERT INTO Bookings (BookingID, TableNo, GuestFirstName, \n",
    "GuestLastName, BookingSlot, EmployeeID)\n",
    "VALUES(8, 5, 'Bald', 'Vin', '19:00', 6);\"\"\"\n",
    "cursor2.execute(insert_bookings_query2)\n",
    "conn2.commit()\n",
    "print(\"Added Bald record to Bookings.\")"
   ]
  },
  {
   "cell_type": "code",
   "execution_count": 16,
   "metadata": {},
   "outputs": [
    {
     "name": "stdout",
     "output_type": "stream",
     "text": [
      "Getting 3rd connection\n",
      "Getting 3rd connection failed, adding new connection\n",
      "Added Jay record to Bookings.\n"
     ]
    }
   ],
   "source": [
    "try:\n",
    "    print(\"Getting 3rd connection\")\n",
    "    conn3 = pool.get_connection()\n",
    "except:\n",
    "    print(\"Getting 3rd connection failed, adding new connection\")\n",
    "    connection = connector.connect(user=\"root\",password=\"\")\n",
    "    # Add the connection into the pool\n",
    "    pool.add_connection(cnx=connection)\n",
    "    conn3 = pool.get_connection()\n",
    "\n",
    "cursor3 = conn3.cursor()\n",
    "insert_bookings_query3 = \"\"\"INSERT INTO Bookings (BookingID, TableNo, GuestFirstName, \n",
    "GuestLastName, BookingSlot, EmployeeID)\n",
    "VALUES(9, 12, 'Jay', 'Kon', '19:30', 6);\"\"\"\n",
    "cursor3.execute(insert_bookings_query3)\n",
    "conn3.commit()\n",
    "conn3.close()\n",
    "print(\"Added Jay record to Bookings.\")"
   ]
  },
  {
   "cell_type": "code",
   "execution_count": 17,
   "metadata": {},
   "outputs": [
    {
     "name": "stdout",
     "output_type": "stream",
     "text": [
      "connection 1 is closed.\n",
      "\n"
     ]
    }
   ],
   "source": [
    "for i, conn in enumerate([conn1, conn2]):\n",
    "    if conn.is_connected():\n",
    "        try:\n",
    "            conn.close()\n",
    "            print(f\"connection {i+1} is closed.\")\n",
    "        except:\n",
    "            print()\n"
   ]
  },
  {
   "cell_type": "code",
   "execution_count": 18,
   "metadata": {},
   "outputs": [],
   "source": [
    "connection = pool.get_connection()\n",
    "cursor = connection.cursor()"
   ]
  },
  {
   "cell_type": "code",
   "execution_count": 19,
   "metadata": {},
   "outputs": [
    {
     "name": "stdout",
     "output_type": "stream",
     "text": [
      "The name and EmployeeID of the Little Lemon manager.\n",
      "('EmployeeID', 'Name')\n",
      "(1, 'Mario Gollini')\n",
      "\n",
      "The name and role of the employee who receives the highest salary.\n",
      "('Name', 'Role')\n",
      "('Mario Gollini', 'Manager')\n",
      "\n",
      "The number of guests booked between 18:00 and 20:00.\n",
      "('GuestCount',)\n",
      "(7,)\n",
      "\n",
      "The full name and BookingID of all guests waiting to be seated with the receptionist in sorted order with respect to their BookingSlot.\n",
      "('BookingID', 'GuestFullName', 'Employee')\n",
      "(9, 'Jay Kon', 'Receptionist')\n",
      "(8, 'Bald Vin', 'Receptionist')\n",
      "(7, 'Anees Java', 'Receptionist')\n"
     ]
    }
   ],
   "source": [
    "# Report\n",
    "print(\"The name and EmployeeID of the Little Lemon manager.\")\n",
    "manager_query = \"SELECT EmployeeID, Name FROM Employees WHERE Role = 'Manager';\"\n",
    "cursor.execute(manager_query)\n",
    "dataset = cursor.fetchall()\n",
    "print(cursor.column_names)\n",
    "for d in dataset:\n",
    "    print(d)\n",
    "\n",
    "print(\"\\nThe name and role of the employee who receives the highest salary.\")\n",
    "highest_salary_query = \"SELECT Name, Role FROM Employees ORDER BY Annual_Salary DESC LIMIT 1;\"\n",
    "cursor.execute(highest_salary_query)\n",
    "dataset = cursor.fetchall()\n",
    "print(cursor.column_names)\n",
    "for d in dataset:\n",
    "    print(d)\n",
    "\n",
    "print(\"\\nThe number of guests booked between 18:00 and 20:00.\")\n",
    "guest_count_query = \"SELECT COUNT(*) AS GuestCount FROM Bookings WHERE HOUR(BookingSlot) BETWEEN 18 AND 20;\"\n",
    "cursor.execute(guest_count_query)\n",
    "dataset = cursor.fetchall()\n",
    "print(cursor.column_names)\n",
    "for d in dataset:\n",
    "    print(d)\n",
    "\n",
    "print(\"\\nThe full name and BookingID of all guests waiting to be seated with the receptionist in sorted order with respect to their BookingSlot.\")\n",
    "guest_waiting_query = \"\"\"SELECT Bookings.BookingID, CONCAT(GuestFirstName,' ', GuestLastName) AS GuestFullName, Role AS Employee\n",
    "FROM Bookings \n",
    "LEFT JOIN Employees ON Employees.EmployeeID = Bookings.EmployeeID\n",
    "WHERE Employees.Role = \"Receptionist\"\n",
    "ORDER BY BookingSlot DESC;\"\"\"\n",
    "cursor.execute(guest_waiting_query)\n",
    "dataset = cursor.fetchall()\n",
    "print(cursor.column_names)\n",
    "for d in dataset:\n",
    "    print(d)"
   ]
  },
  {
   "cell_type": "code",
   "execution_count": 20,
   "metadata": {},
   "outputs": [
    {
     "name": "stdout",
     "output_type": "stream",
     "text": [
      "Created procedure BasicSalesReport\n"
     ]
    }
   ],
   "source": [
    "basic_sales_report_query = \"\"\"\n",
    "CREATE PROCEDURE BasicSalesReport()\n",
    "BEGIN\n",
    "    SELECT SUM(BillAmount) AS 'Total sales',\n",
    "        AVG(BillAmount) AS 'Average sale',\n",
    "        MAX(BillAmount) AS 'Maximum bill paid',\n",
    "        MIN(BillAmount) AS 'Maximum bill paid'\n",
    "    FROM Orders;\n",
    "END\n",
    "\"\"\"\n",
    "cursor.execute(\"DROP PROCEDURE IF EXISTS BasicSalesReport;\")\n",
    "cursor.execute(basic_sales_report_query)\n",
    "print(\"Created procedure BasicSalesReport\")"
   ]
  },
  {
   "cell_type": "code",
   "execution_count": 21,
   "metadata": {},
   "outputs": [
    {
     "name": "stdout",
     "output_type": "stream",
     "text": [
      "Executed procedure BasicSalesReport\n",
      "['Total sales', 'Average sale', 'Maximum bill paid', 'Maximum bill paid']\n",
      "(Decimal('243'), Decimal('48.6000'), 86, 37)\n"
     ]
    }
   ],
   "source": [
    "cursor.callproc(\"BasicSalesReport\")\n",
    "print(\"Executed procedure BasicSalesReport\")\n",
    "results = next(cursor.stored_results())\n",
    "dataset = results.fetchall()\n",
    "columns = list()\n",
    "\n",
    "for column_id in cursor.stored_results():\n",
    "    columns = [c[0] for c in column_id.description]\n",
    "\n",
    "print(columns)\n",
    "for d in dataset:\n",
    "    print(d)"
   ]
  },
  {
   "cell_type": "code",
   "execution_count": 22,
   "metadata": {},
   "outputs": [],
   "source": [
    "connection.close()"
   ]
  },
  {
   "cell_type": "code",
   "execution_count": 23,
   "metadata": {},
   "outputs": [
    {
     "name": "stdout",
     "output_type": "stream",
     "text": [
      "\n",
      "Booking Slot: 15:00:00 \n",
      "Guest Name: Vanessa McCarthy \n",
      "Assigned to: Giorgos Dioudis [Head Chef]\n",
      "\n",
      "Booking Slot: 17:30:00 \n",
      "Guest Name: Marcos Romero \n",
      "Assigned to: Fatma Kaya [Assistant Chef]\n",
      "\n",
      "Booking Slot: 18:00:00 \n",
      "Guest Name: Anees Java \n",
      "Assigned to: John Millar [Receptionist]\n"
     ]
    }
   ],
   "source": [
    "connection = pool.get_connection()\n",
    "cursor = connection.cursor(buffered=True)\n",
    "\n",
    "query=\"\"\"SELECT Bookings.BookingSlot,\n",
    "CONCAT(Bookings.GuestFirstName, \" \", Bookings.GuestLastName) AS GuestName,\n",
    "CONCAT(Employees.Name, \" [\", Employees.Role, \"]\") AS AssignedTo\n",
    "FROM Bookings \n",
    "INNER JOIN \n",
    "Employees ON Bookings.EmployeeID = Employees.EmployeeID\n",
    "ORDER BY Bookings.BookingSlot ASC;\"\"\"\n",
    "cursor.execute(query)\n",
    "results = cursor.fetchmany(size=3)\n",
    "\n",
    "for r in results:\n",
    "    print(f\"\\nBooking Slot: {r[0]} \\nGuest Name: {r[1]} \\nAssigned to: {r[2]}\")\n",
    "    \n",
    "connection.close()"
   ]
  },
  {
   "cell_type": "code",
   "execution_count": null,
   "metadata": {},
   "outputs": [],
   "source": []
  }
 ],
 "metadata": {
  "interpreter": {
   "hash": "31f2aee4e71d21fbe5cf8b01ff0e069b9275f58929596ceb00d14d90e3e16cd6"
  },
  "kernelspec": {
   "display_name": "Python 3 (ipykernel)",
   "language": "python",
   "name": "python3"
  },
  "language_info": {
   "codemirror_mode": {
    "name": "ipython",
    "version": 3
   },
   "file_extension": ".py",
   "mimetype": "text/x-python",
   "name": "python",
   "nbconvert_exporter": "python",
   "pygments_lexer": "ipython3",
   "version": "3.9.12"
  }
 },
 "nbformat": 4,
 "nbformat_minor": 2
}
